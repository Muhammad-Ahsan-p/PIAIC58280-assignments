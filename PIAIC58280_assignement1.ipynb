{
 "cells": [
  {
   "cell_type": "code",
   "execution_count": 122,
   "metadata": {},
   "outputs": [
    {
     "data": {
      "text/plain": [
       "array([1.        , 1.41421356, 1.73205081, 2.        ])"
      ]
     },
     "execution_count": 122,
     "metadata": {},
     "output_type": "execute_result"
    }
   ],
   "source": [
    "import numpy as np \n",
    "\n",
    "arr=np.array([[1,3,5],[6,7,4],[1,3,5]]) #declaring 3X3 array\n",
    "arr.shape            #return the shape of the array\n",
    "arr.ndim             #return the dimenstions of the array\n",
    "arr.dtype            #return the datatype of the of array data\n",
    "arr.dtype.name       #return the datatype of the of array data\n",
    "arr.size             #return the total size of the array\n",
    "np.sort(arr)         #sort the numpy array\n",
    "\n",
    "arr2=np.arange(1,11) #auto generate 1-D array from 1 to 10\n",
    "arr2.reshape(2,5)    #reshape the array to 2 rows and 5 columns \n",
    "arr2.reshape(5,2)    #reshape the array to 5 rows and 2 columns\n",
    "\n",
    "arr3=np.arange(0,23,2) #auto generate 1-D array of even numbers from 0 to 22\n",
    "arr3.max()             #return the maximum value from the array\n",
    "arr3.min()             #return the minimum value from the array\n",
    "arr3.mean()            #return the mean value from the array\n",
    "arr3.sum()             #return the sum of all the numbers from the array\n",
    "arr3.reshape(3,4)      #reshape the array to 3 rows and 4 columns\n",
    "arr3.tobytes()         #converts the array to bytes\n",
    "np.add(arr3,2)         #add 2 to each number\n",
    "np.subtract(arr3,1)    #subtract 1 from each number\n",
    "np.multiply(arr3,2)    #multiply 2 to each number\n",
    "np.divide(arr3,2)      #divide 2 from each number\n",
    "\n",
    "\n",
    "arr4=np.arange(1,5)\n",
    "np.sin(arr4)            #sin of arr4\n",
    "np.sinh(arr4)           #sinh of arr4\n",
    "np.sinc(arr4)           #sinc of arr4\n",
    "np.cos(arr4)            #cos of arr4\n",
    "np.cosh(arr4)           #cosh of arr4\n",
    "np.tan(arr4)            #tan of arr4\n",
    "np.tanh(arr4)           #tanh of arr4\n",
    "np.log2(arr4)           #log base 2\n",
    "np.log10(arr4)          #log base 10\n",
    "np.absolute(arr4)       #take absolute of arr4\n",
    "np.mod(arr4,2)          #take modulus of arr4\n",
    "np.square(arr4)         #take square\n",
    "np.cbrt(arr4)           #take cube root\n",
    "np.exp2(arr4)           #take exponentional\n",
    "np.positive(arr4)       #assign all the numbers positive sign\n",
    "np.negative(arr4)       #assign all the numbers negitive sign\n",
    "np.sign(arr4)           #return the signs of numbers\n",
    "np.resize(arr4,[4,4])   #resize the array to 4x4\n",
    "np.pi                   #give the value of pi\n",
    "np.spacing(arr4)        #return the spacing between two adjecent numbers\n",
    "np.amax(arr4)           #return maximum\n",
    "np.amin(arr4)           #return minimum\n",
    "np.append(arr4,[1,4,5]) #append new numbers at the end of array \n",
    "np.floor(arr4)          #take floor of each\n",
    "np.ceil(arr4)           #take ceil\n",
    "degree=np.degrees(arr4) #converts to degrees\n",
    "radian=np.radians(arr4) #converts to radians\n",
    "np.deg2rad(degree)      #converts the degrees to radians\n",
    "np.rad2deg(radian)      #converts the radians to degrees\n",
    "np.sqrt(arr4)           #take square root\n"
   ]
  },
  {
   "cell_type": "code",
   "execution_count": null,
   "metadata": {},
   "outputs": [],
   "source": []
  },
  {
   "cell_type": "code",
   "execution_count": null,
   "metadata": {},
   "outputs": [],
   "source": []
  }
 ],
 "metadata": {
  "kernelspec": {
   "display_name": "Python 3",
   "language": "python",
   "name": "python3"
  },
  "language_info": {
   "codemirror_mode": {
    "name": "ipython",
    "version": 3
   },
   "file_extension": ".py",
   "mimetype": "text/x-python",
   "name": "python",
   "nbconvert_exporter": "python",
   "pygments_lexer": "ipython3",
   "version": "3.8.3"
  }
 },
 "nbformat": 4,
 "nbformat_minor": 4
}
